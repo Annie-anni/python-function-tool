{
 "cells": [
  {
   "cell_type": "code",
   "id": "initial_id",
   "metadata": {
    "collapsed": true,
    "ExecuteTime": {
     "end_time": "2025-03-12T14:05:01.838587Z",
     "start_time": "2025-03-12T14:05:01.512138Z"
    }
   },
   "source": [
    "print(\"Hello World\")\n",
    "import turtle\n",
    "# Show turle window\n",
    "turtle.Screen()\n",
    "turtle.showturtle()\n",
    "turtle.forward(100)\n",
    "print(\"Hello World\")\n",
    "import turtle\n",
    "# Show turle window\n",
    "turtle.Screen()\n",
    "turtle.showturtle()\n",
    "turtle.forward(100)\n",
    "users = []"
   ],
   "outputs": [
    {
     "name": "stdout",
     "output_type": "stream",
     "text": [
      "Hello World\n",
      "Hello World\n"
     ]
    }
   ],
   "execution_count": 14
  },
  {
   "metadata": {
    "ExecuteTime": {
     "end_time": "2025-03-12T14:06:47.366145Z",
     "start_time": "2025-03-12T14:06:47.359110Z"
    }
   },
   "cell_type": "code",
   "source": [
    "\n",
    "users.append(1)"
   ],
   "id": "d58bec598bca0a34",
   "outputs": [],
   "execution_count": 28
  },
  {
   "metadata": {
    "ExecuteTime": {
     "end_time": "2025-03-12T23:26:02.195438Z",
     "start_time": "2025-03-12T23:26:02.164089Z"
    }
   },
   "cell_type": "code",
   "source": "print(users)",
   "id": "d094f11d38f243f1",
   "outputs": [
    {
     "ename": "NameError",
     "evalue": "name 'users' is not defined",
     "output_type": "error",
     "traceback": [
      "\u001B[31m---------------------------------------------------------------------------\u001B[39m",
      "\u001B[31mNameError\u001B[39m                                 Traceback (most recent call last)",
      "\u001B[36mCell\u001B[39m\u001B[36m \u001B[39m\u001B[32mIn[2]\u001B[39m\u001B[32m, line 1\u001B[39m\n\u001B[32m----> \u001B[39m\u001B[32m1\u001B[39m \u001B[38;5;28mprint\u001B[39m(\u001B[43musers\u001B[49m)\n",
      "\u001B[31mNameError\u001B[39m: name 'users' is not defined"
     ]
    }
   ],
   "execution_count": 2
  },
  {
   "metadata": {},
   "cell_type": "markdown",
   "source": [
    "# The user program\n",
    "this program is super cool ! **kawaii** :3"
   ],
   "id": "644f2310076a2752"
  },
  {
   "metadata": {
    "ExecuteTime": {
     "end_time": "2025-03-12T23:26:16.508294Z",
     "start_time": "2025-03-12T23:26:16.504771Z"
    }
   },
   "cell_type": "code",
   "source": "",
   "id": "4241c0e3aced9240",
   "outputs": [],
   "execution_count": null
  },
  {
   "metadata": {},
   "cell_type": "code",
   "outputs": [],
   "execution_count": null,
   "source": "",
   "id": "6bedfb2a5e775e31"
  },
  {
   "metadata": {},
   "cell_type": "code",
   "outputs": [],
   "execution_count": null,
   "source": "",
   "id": "5db596f8aaf3d0ca"
  },
  {
   "metadata": {},
   "cell_type": "code",
   "outputs": [],
   "execution_count": null,
   "source": "",
   "id": "c0f6056e1113d123"
  }
 ],
 "metadata": {
  "kernelspec": {
   "display_name": "Python 3",
   "language": "python",
   "name": "python3"
  },
  "language_info": {
   "codemirror_mode": {
    "name": "ipython",
    "version": 2
   },
   "file_extension": ".py",
   "mimetype": "text/x-python",
   "name": "python",
   "nbconvert_exporter": "python",
   "pygments_lexer": "ipython2",
   "version": "2.7.6"
  }
 },
 "nbformat": 4,
 "nbformat_minor": 5
}
